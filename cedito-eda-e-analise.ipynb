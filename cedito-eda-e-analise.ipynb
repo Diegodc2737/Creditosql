{
 "cells": [
  {
   "cell_type": "code",
   "execution_count": 1,
   "id": "09f6d8ad",
   "metadata": {
    "_cell_guid": "b1076dfc-b9ad-4769-8c92-a6c4dae69d19",
    "_uuid": "8f2839f25d086af736a60e9eeb907d3b93b6e0e5",
    "execution": {
     "iopub.execute_input": "2022-02-19T17:56:51.947955Z",
     "iopub.status.busy": "2022-02-19T17:56:51.947114Z",
     "iopub.status.idle": "2022-02-19T17:56:51.964214Z",
     "shell.execute_reply": "2022-02-19T17:56:51.964759Z",
     "shell.execute_reply.started": "2022-02-18T20:42:55.572134Z"
    },
    "papermill": {
     "duration": 0.039976,
     "end_time": "2022-02-19T17:56:51.965108",
     "exception": false,
     "start_time": "2022-02-19T17:56:51.925132",
     "status": "completed"
    },
    "tags": []
   },
   "outputs": [
    {
     "name": "stdout",
     "output_type": "stream",
     "text": [
      "/kaggle/input/credito-eda-e-analise/describe_TipoDeColuna.png\n",
      "/kaggle/input/credito-eda-e-analise/salario_anual.png\n",
      "/kaggle/input/credito-eda-e-analise/sexo_m_f.png\n",
      "/kaggle/input/credito-eda-e-analise/Grafico_sexo_M_F.png\n",
      "/kaggle/input/credito-eda-e-analise/README.md\n",
      "/kaggle/input/credito-eda-e-analise/limite_10.png\n",
      "/kaggle/input/credito-eda-e-analise/tipo_cartao.png\n",
      "/kaggle/input/credito-eda-e-analise/SQL_credito8.csv\n",
      "/kaggle/input/credito-eda-e-analise/estado_civil.png\n",
      "/kaggle/input/credito-eda-e-analise/escolaridade.png\n"
     ]
    }
   ],
   "source": [
    "# This Python 3 environment comes with many helpful analytics libraries installed\n",
    "# It is defined by the kaggle/python Docker image: https://github.com/kaggle/docker-python\n",
    "# For example, here's several helpful packages to load\n",
    "\n",
    "\n",
    "import numpy as np # linear algebra\n",
    "import pandas as pd # data processing, CSV file I/O (e.g. pd.read_csv)\n",
    "\n",
    "\n",
    "# Input data files are available in the read-only \"../input/\" directory\n",
    "# For example, running this (by clicking run or pressing Shift+Enter) will list all files under the input directory\n",
    "\n",
    "import os\n",
    "for dirname, _, filenames in os.walk('/kaggle/input'):\n",
    "    for filename in filenames:\n",
    "        print(os.path.join(dirname, filename))\n",
    "        \n",
    "import matplotlib.pyplot as plt\n",
    "import matplotlib.image as mpimg\n",
    "\n",
    "\n",
    "\n",
    "\n",
    "# You can write up to 20GB to the current directory (/kaggle/working/) that gets preserved as output when you create a version using \"Save & Run All\" \n",
    "# You can also write temporary files to /kaggle/temp/, but they won't be saved outside of the current session"
   ]
  },
  {
   "cell_type": "markdown",
   "id": "fe7a61f6",
   "metadata": {
    "execution": {
     "iopub.execute_input": "2022-02-16T22:59:56.245626Z",
     "iopub.status.busy": "2022-02-16T22:59:56.244747Z",
     "iopub.status.idle": "2022-02-16T22:59:56.335462Z",
     "shell.execute_reply": "2022-02-16T22:59:56.334284Z",
     "shell.execute_reply.started": "2022-02-16T22:59:56.245003Z"
    },
    "papermill": {
     "duration": 0.006333,
     "end_time": "2022-02-19T17:56:51.979065",
     "exception": false,
     "start_time": "2022-02-19T17:56:51.972732",
     "status": "completed"
    },
    "tags": []
   },
   "source": [
    "# *Exploração e análise de dados de crédito com SQL*\n",
    "\n",
    "# Dado:\n",
    "\n",
    "\n",
    "\n",
    "Abaixo está os dados representam informações de clientes de um banco e contam com as seguintes colunas:\n",
    "\n",
    "* idade = idade do cliente\n",
    "* sexo = sexo do cliente (F ou M)\n",
    "* dependentes = número de dependentes do cliente\n",
    "* escolaridade = nível de escolaridade do clientes\n",
    "* salario_anual = faixa salarial do cliente\n",
    "* tipo_cartao = tipo de cartao do cliente\n",
    "* qtd_produtos = quantidade de produtos comprados nos últimos 12 meses\n",
    "* iteracoes_12m = quantidade de iterações/transacoes nos ultimos 12 meses\n",
    "* meses_inativo_12m = quantidade de meses que o cliente ficou inativo\n",
    "* limite_credito = limite de credito do cliente\n",
    "* valor_transacoes_12m = valor das transações dos ultimos 12 meses\n",
    "* qtd_transacoes_12m  = quantidade de transacoes dos ultimos 12 meses\n",
    "\n",
    "## **Exploração de dados:**\n",
    "\n",
    "**Obs:** A tabela foi criada no **AWS Athena** junto com o **S3 Bucket**, uma versão dos dados estão disponível em https://github.com/Diegodc2737/Creditosql.git. \n",
    "Acima contém mais linhas do que a seleção utilizada. Você pode utilizar todas as linhas ou considerar apenas uma fração dos dados.\n",
    "\n",
    "A exploração do banco de dado é a pirmeira fase, temos que análisar pra entender a matéria prima.\n",
    "Vamos a exploração de dados:\n",
    "\n",
    "**Qual a quantidade de informações temos na nossa base de dados?**\n",
    "\n",
    "Query: SELECT count(*) FROM credito LIMIT 10 \n",
    ">Reposta: 2564 linhas.\n",
    " \n",
    "![limite dez](https://github.com/Diegodc2737/Creditosql/blob/main/limite_10.png?raw=true)\n",
    "\n",
    "\n",
    "\n",
    "\n",
    "**Quais os tipos de cada dado**\n",
    "Para entendermos mais sobre os tipos de dados de cada coluna:\n",
    "\n",
    "**Query:** DESCRIBE credito\n",
    "\n",
    "![Descrição dos tipos de dados](https://github.com/Diegodc2737/Creditosql/blob/00c040452cd43e5e63d2aae6c497952b44b81332/describe_TipoDeColuna.png?raw=true)\n",
    "\n",
    "\n",
    "\n",
    "\n",
    "\n",
    "**Quais são os tipos de escolaridade disponíveis no dataset?**\n",
    "\n",
    "**Query:** SELECT DISTINCT escolaridade FROM credito\n",
    "\n",
    "![Tipos de escolaridade](https://github.com/Diegodc2737/Creditosql/blob/main/escolaridade.png?raw=true)\n",
    "\n",
    ">Uma boa opção é dar uma olhada na escolaridade dos clientes, Os dados contam com vários níveis de escolaridade e é possível perceber que temos valores nulos (na) no dataset, trataremos isso mais tarde!\n",
    "\n",
    "\n",
    "\n",
    "\n",
    "\n",
    "\n",
    "**Quais são os tipos estado_civil disponíveis no dataset?**\n",
    "\n",
    "**Query:** SELECT DISTINCT estado_civil  FROM credito\n",
    "\n",
    "![Olhando o estado_civil](https://github.com/Diegodc2737/Creditosql/blob/cb93a9ba74d055d316d8a895adc309d63fe8071f/estado_civil.png?raw=true)\n",
    "\n",
    "> Novamente encontramos valores nulos nos dados.\n",
    "\n",
    "\n",
    "\n",
    "\n",
    "**Quais são os tipos de salario_anual disponíveis no dataset?**\n",
    "\n",
    "**Query:** SELECT DISTINCT salario_anual  FROM credito\n",
    "\n",
    "![Tipos de salario anual](https://github.com/Diegodc2737/Creditosql/blob/main/base_salario_anual.png?raw=true)\n",
    "\n",
    "> Os salários nesse dataset não estão expostas com o valor exato que o cliente ganha. O que está informado é a faixa salarial de cada um. Também contem dados nulos. \n",
    "\n",
    "\n",
    "\n",
    "\n",
    "**Se tratando de um Banco quais tipos de cartão disponíveis no dataset?**\n",
    "\n",
    "**Query:** SELECT DISTINCT tipo_cartao  FROM credito\n",
    "\n",
    "![Tipos de cartões](https://github.com/Diegodc2737/Creditosql/blob/main/tipo_cartao.png?raw=true)\n",
    "\n",
    "\n",
    "\n",
    "\n"
   ]
  },
  {
   "cell_type": "markdown",
   "id": "e034a0e3",
   "metadata": {
    "execution": {
     "iopub.execute_input": "2022-02-16T21:19:17.209169Z",
     "iopub.status.busy": "2022-02-16T21:19:17.208902Z",
     "iopub.status.idle": "2022-02-16T21:19:17.220109Z",
     "shell.execute_reply": "2022-02-16T21:19:17.219547Z",
     "shell.execute_reply.started": "2022-02-16T21:19:17.209144Z"
    },
    "papermill": {
     "duration": 0.006238,
     "end_time": "2022-02-19T17:56:51.992340",
     "exception": false,
     "start_time": "2022-02-19T17:56:51.986102",
     "status": "completed"
    },
    "tags": []
   },
   "source": [
    "## **Análise de dados**\n",
    "\n",
    "**No dataset, quantos clientes são homens e quantos são mulheres?**\n",
    "![Contagem do sexo M, F](https://github.com/Diegodc2737/Creditosql/blob/main/sexo_m_f.png?raw=true)\n",
    "\n",
    "![grafico cliente M_F](https://github.com/Diegodc2737/Creditosql/blob/main/Grafico_sexo_M_F.png?raw=true)\n",
    ">Podemos perceber pela análise que a maioria dos clientes desse banco é homem. Do csv que extraido dos dados\n",
    "geramos um gráfico em pizza para um melhor visualização\n",
    "\n",
    "\n",
    "\n",
    "**Podemos selecionar pela idade mínima e máxima dos clientes**\n",
    "\n",
    "**Query:** SELECT MIN(idade) AS idade_minima, MAX(idade) AS idade_maxima, sexo FROM credito GROUP BY sexo\n",
    "![idade minima e maxima dos clientes](https://github.com/Diegodc2737/Creditosql/blob/main/idade_minima_maxima.png?raw=true)\n",
    "\n",
    "\n",
    "\n",
    "**Separando os clientes pelo tipo do cartão**\n",
    "\n",
    "**Query:** SELECT count(*) AS clientes, tipo_cartao FROM credito GROUP BY tipo_cartao\n",
    "![clientes pelo tipo do cartão](https://github.com/Diegodc2737/Creditosql/blob/main/clientes-por_tipocartao.png?raw=true)\n",
    "\n",
    "![grafico de coluna](https://github.com/Diegodc2737/Creditosql/blob/main/Clientes%20pelo%20tipo%20de%20cart%C3%A3o.png?raw=true)\n"
   ]
  },
  {
   "cell_type": "markdown",
   "id": "0bdff551",
   "metadata": {
    "papermill": {
     "duration": 0.006357,
     "end_time": "2022-02-19T17:56:52.005171",
     "exception": false,
     "start_time": "2022-02-19T17:56:51.998814",
     "status": "completed"
    },
    "tags": []
   },
   "source": [
    "**Será que o típo de escolaridade impacta nos maiores limites de credito**\n",
    "\n",
    "**Query:** select escolaridade, sexo, max(limite_credito) as limite_credito, tipo_cartao\n",
    "from credito\n",
    "where escolaridade != 'na' and tipo_cartao != 'na'\n",
    "group by escolaridade, tipo_cartao, sexo\n",
    "order by limite_credito desc;\n",
    "![](https://github.com/Diegodc2737/Creditosql/blob/main/escolaridade%20limite_credito.png?raw=true)"
   ]
  },
  {
   "cell_type": "markdown",
   "id": "f87fa033",
   "metadata": {
    "papermill": {
     "duration": 0.006205,
     "end_time": "2022-02-19T17:56:52.018131",
     "exception": false,
     "start_time": "2022-02-19T17:56:52.011926",
     "status": "completed"
    },
    "tags": []
   },
   "source": [
    "**Qual o valor da transação mais baixo e alto**\n",
    "\n",
    "**Query:** SELECT MIN(valor_transacoes_12m) AS transacoes_min, MAX(valor_transacoes_12m) AS transacoes_max FROM credito\n",
    "![transação baixo e o alto](https://github.com/Diegodc2737/Creditosql/blob/main/valor_transacao.png?raw=true)"
   ]
  },
  {
   "cell_type": "markdown",
   "id": "772d3b54",
   "metadata": {
    "papermill": {
     "duration": 0.006314,
     "end_time": "2022-02-19T17:56:52.032115",
     "exception": false,
     "start_time": "2022-02-19T17:56:52.025801",
     "status": "completed"
    },
    "tags": []
   },
   "source": [
    "**Qual deles gastam mais, homens ou mulheres?** \n",
    "\n",
    "**Query:** SELECT sexo, MIN(valor_transacoes_12m) AS min_valor_gasto, AVG(valor_transacoes_12m) AS media_valor_gast, MAX(valor_transacoes_12m) AS maior_valor_gasto\n",
    "FROM credito \n",
    "GROUP BY sexo\n",
    "\n",
    "![Descobrindo quem gasta mais](https://github.com/Diegodc2737/Creditosql/blob/main/valor%20gasto%20por%20sexo.png?raw=true)"
   ]
  }
 ],
 "metadata": {
  "kernelspec": {
   "display_name": "Python 3",
   "language": "python",
   "name": "python3"
  },
  "language_info": {
   "codemirror_mode": {
    "name": "ipython",
    "version": 3
   },
   "file_extension": ".py",
   "mimetype": "text/x-python",
   "name": "python",
   "nbconvert_exporter": "python",
   "pygments_lexer": "ipython3",
   "version": "3.7.12"
  },
  "papermill": {
   "default_parameters": {},
   "duration": 12.418913,
   "end_time": "2022-02-19T17:56:52.651802",
   "environment_variables": {},
   "exception": null,
   "input_path": "__notebook__.ipynb",
   "output_path": "__notebook__.ipynb",
   "parameters": {},
   "start_time": "2022-02-19T17:56:40.232889",
   "version": "2.3.3"
  }
 },
 "nbformat": 4,
 "nbformat_minor": 5
}

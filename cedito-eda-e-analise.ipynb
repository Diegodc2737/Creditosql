{
 "cells": [
  {
   "cell_type": "code",
   "execution_count": 1,
   "id": "816561e1",
   "metadata": {
    "_cell_guid": "b1076dfc-b9ad-4769-8c92-a6c4dae69d19",
    "_uuid": "8f2839f25d086af736a60e9eeb907d3b93b6e0e5",
    "execution": {
     "iopub.execute_input": "2022-02-16T22:47:57.823461Z",
     "iopub.status.busy": "2022-02-16T22:47:57.818823Z",
     "iopub.status.idle": "2022-02-16T22:47:57.840931Z",
     "shell.execute_reply": "2022-02-16T22:47:57.839894Z",
     "shell.execute_reply.started": "2022-02-16T21:47:38.943364Z"
    },
    "papermill": {
     "duration": 0.037917,
     "end_time": "2022-02-16T22:47:57.841210",
     "exception": false,
     "start_time": "2022-02-16T22:47:57.803293",
     "status": "completed"
    },
    "tags": []
   },
   "outputs": [
    {
     "name": "stdout",
     "output_type": "stream",
     "text": [
      "/kaggle/input/credito-eda-e-analise/describe_TipoDeColuna.png\n",
      "/kaggle/input/credito-eda-e-analise/salario_anual.png\n",
      "/kaggle/input/credito-eda-e-analise/sexo_m_f.png\n",
      "/kaggle/input/credito-eda-e-analise/Grafico_sexo_M_F.png\n",
      "/kaggle/input/credito-eda-e-analise/README.md\n",
      "/kaggle/input/credito-eda-e-analise/limite_10.png\n",
      "/kaggle/input/credito-eda-e-analise/tipo_cartao.png\n",
      "/kaggle/input/credito-eda-e-analise/SQL_credito8.csv\n",
      "/kaggle/input/credito-eda-e-analise/estado_civil.png\n",
      "/kaggle/input/credito-eda-e-analise/escolaridade.png\n"
     ]
    }
   ],
   "source": [
    "# This Python 3 environment comes with many helpful analytics libraries installed\n",
    "# It is defined by the kaggle/python Docker image: https://github.com/kaggle/docker-python\n",
    "# For example, here's several helpful packages to load\n",
    "\n",
    "import numpy as np # linear algebra\n",
    "import pandas as pd # data processing, CSV file I/O (e.g. pd.read_csv)\n",
    "\n",
    "# Input data files are available in the read-only \"../input/\" directory\n",
    "# For example, running this (by clicking run or pressing Shift+Enter) will list all files under the input directory\n",
    "\n",
    "import os\n",
    "for dirname, _, filenames in os.walk('/kaggle/input'):\n",
    "    for filename in filenames:\n",
    "        print(os.path.join(dirname, filename))\n",
    "\n",
    "# You can write up to 20GB to the current directory (/kaggle/working/) that gets preserved as output when you create a version using \"Save & Run All\" \n",
    "# You can also write temporary files to /kaggle/temp/, but they won't be saved outside of the current session"
   ]
  },
  {
   "cell_type": "code",
   "execution_count": null,
   "id": "f1acb2dd",
   "metadata": {
    "papermill": {
     "duration": 0.005893,
     "end_time": "2022-02-16T22:47:57.854559",
     "exception": false,
     "start_time": "2022-02-16T22:47:57.848666",
     "status": "completed"
    },
    "tags": []
   },
   "outputs": [],
   "source": []
  },
  {
   "cell_type": "markdown",
   "id": "f9418c97",
   "metadata": {
    "papermill": {
     "duration": 0.005797,
     "end_time": "2022-02-16T22:47:57.866361",
     "exception": false,
     "start_time": "2022-02-16T22:47:57.860564",
     "status": "completed"
    },
    "tags": []
   },
   "source": []
  },
  {
   "cell_type": "markdown",
   "id": "329bd1d4",
   "metadata": {
    "papermill": {
     "duration": 0.005604,
     "end_time": "2022-02-16T22:47:57.877944",
     "exception": false,
     "start_time": "2022-02-16T22:47:57.872340",
     "status": "completed"
    },
    "tags": []
   },
   "source": [
    "# *Exploração e análise de dados de crédito com SQL*\n",
    "\n",
    "# Dado:\n",
    "\n",
    "A tabela foi criada no **AWS Athena** junto com o **S3 Bucket**, os dados estão disponível em https://github.com/Diegodc2737/Creditosql/blob/cb898d702057115299d584912ab7b8108106db43/SQL_credito8.csv.\n",
    "\n",
    "\n",
    "Abaixo está os dados representam informações de clientes de um banco e contam com as seguintes colunas:\n",
    "\n",
    "* idade = idade do cliente\n",
    "* sexo = sexo do cliente (F ou M)\n",
    "* dependentes = número de dependentes do cliente\n",
    "* escolaridade = nível de escolaridade do clientes\n",
    "* salario_anual = faixa salarial do cliente\n",
    "* tipo_cartao = tipo de cartao do cliente\n",
    "* qtd_produtos = quantidade de produtos comprados nos últimos 12 meses\n",
    "* iteracoes_12m = quantidade de iterações/transacoes nos ultimos 12 meses\n",
    "* meses_inativo_12m = quantidade de meses que o cliente ficou inativo\n",
    "* limite_credito = limite de credito do cliente\n",
    "* valor_transacoes_12m = valor das transações dos ultimos 12 meses\n",
    "* qtd_transacoes_12m  = quantidade de transacoes dos ultimos 12 meses\n",
    "\n",
    "## **Exploração de dados:**\n",
    "\n",
    "**ps.:** A base de dados do link acima contém mais linhas do que a seleção utilizada. Você pode utilizar todas as linhas ou considerar apenas uma fração dos dados.\n",
    "\n",
    "A exploração do banco de dado é a pirmeira fase, temos que análisar pra entender a matéria prima.\n",
    "Vamos a exploração de dados:\n",
    "\n",
    "**Qual a quantidade de informações temos na nossa base de dados?**\n",
    "Query: SELECT count(*) FROM credito LIMIT 10\n",
    " Reposta: 2564 linhas.\n",
    " \n",
    "![limite dez](https://github.com/Diegodc2737/Creditosql/blob/main/limite_10.png)\n",
    "\n",
    "\n",
    "**Quais os tipos de cada dado**\n",
    "Para entendermos mais sobre os tipos de dados de cada coluna:\n",
    "\n",
    "**Query:** DESCRIBE credito\n",
    "\n",
    "![Descrição dos tipos de dados](http://https://github.com/Diegodc2737/Creditosql/blob/00c040452cd43e5e63d2aae6c497952b44b81332/describe_TipoDeColuna.png)\n",
    "\n",
    "**Quais são os tipos de escolaridade disponíveis no dataset?**\n",
    "\n",
    "**Query:** SELECT DISTINCT escolaridade FROM credito\n",
    "\n",
    "![Tipos de escolaridade](http://https://escolaridade.png)\n",
    "\n",
    ">Uma boa opção é dar uma olhada na escolaridade dos clientes, Os dados contam com vários níveis de escolaridade e é possível perceber que temos valores nulos (na) no dataset, trataremos isso mais tarde!\n",
    "\n",
    "\n",
    "**Quais são os tipos estado_civil disponíveis no dataset?**\n",
    "\n",
    "**Query:** SELECT DISTINCT estado_civil  FROM credito\n",
    "\n",
    "![Olhando o estado_civil](http://https://https://github.com/Diegodc2737/Creditosql/estado_civil.png)\n",
    "\n",
    "> Novamente encontramos valores nulos nos dados.\n",
    "\n",
    "\n",
    "**Quais são os tipos de salario_anual disponíveis no dataset?**\n",
    "\n",
    "**Query:** SELECT DISTINCT salario_anual  FROM credito\n",
    "\n",
    "![Tipos de salario anual](https://https://github.com/Diegodc2737/Creditosql/blob/salario_anual.png)\n",
    "\n",
    "> Os salários nesse dataset não estão expostas com o valor exato que o cliente ganha. O que está informado é a faixa salarial de cada um. Também contem dados nulos. \n",
    "\n",
    "\n",
    "**Se tratando de um Banco quais tipos de cartão disponíveis no dataset?**\n",
    "\n",
    "**Query:** SELECT DISTINCT tipo_cartao  FROM credito\n",
    "\n",
    "![Tipos de cartões](http://https://github.com/Diegodc2737/Creditosql/blob/cb898d702057115299d584912ab7b8108106db43/tipo_cartao.png)\n",
    "![](../input/credito-eda-e-analise/tipo_cartao.png../input/credito-eda-e-analise/tipo_cartao.png)\n"
   ]
  },
  {
   "cell_type": "markdown",
   "id": "e6ac1781",
   "metadata": {
    "execution": {
     "iopub.execute_input": "2022-02-16T21:19:17.209169Z",
     "iopub.status.busy": "2022-02-16T21:19:17.208902Z",
     "iopub.status.idle": "2022-02-16T21:19:17.220109Z",
     "shell.execute_reply": "2022-02-16T21:19:17.219547Z",
     "shell.execute_reply.started": "2022-02-16T21:19:17.209144Z"
    },
    "papermill": {
     "duration": 0.005671,
     "end_time": "2022-02-16T22:47:57.889525",
     "exception": false,
     "start_time": "2022-02-16T22:47:57.883854",
     "status": "completed"
    },
    "tags": []
   },
   "source": [
    "## **Análise de dados**\n",
    "\n",
    "Uma vez que exploramos o dados e buscamos entender quais são as informações que temos no nosso banco de dados, podemos analisar as informações para buscar entender o que está acontecendo no banco de dados. Vamos fazer perguntas:\n",
    "\n",
    "**No dataset, quantos clientes são homens e quantos são mulheres?\n",
    "![Contagem do sexo M, F](http://https://github.com/Diegodc2737/Creditosql/blob/0ded8ebf25db12f3f0492ecd9578d74b1bc7492d/sexo_m_f.png)\n",
    "\n",
    "![Grafico _M_F](http://https://github.com/Diegodc2737/Creditosql/blob/cb898d702057115299d584912ab7b8108106db43/Grafico_sexo_M_F.png)\n",
    "\n",
    "\n"
   ]
  }
 ],
 "metadata": {
  "kernelspec": {
   "display_name": "Python 3",
   "language": "python",
   "name": "python3"
  },
  "language_info": {
   "codemirror_mode": {
    "name": "ipython",
    "version": 3
   },
   "file_extension": ".py",
   "mimetype": "text/x-python",
   "name": "python",
   "nbconvert_exporter": "python",
   "pygments_lexer": "ipython3",
   "version": "3.7.12"
  },
  "papermill": {
   "default_parameters": {},
   "duration": 10.414344,
   "end_time": "2022-02-16T22:47:58.504946",
   "environment_variables": {},
   "exception": null,
   "input_path": "__notebook__.ipynb",
   "output_path": "__notebook__.ipynb",
   "parameters": {},
   "start_time": "2022-02-16T22:47:48.090602",
   "version": "2.3.3"
  }
 },
 "nbformat": 4,
 "nbformat_minor": 5
}
